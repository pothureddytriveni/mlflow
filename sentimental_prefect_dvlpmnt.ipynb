{
 "cells": [
  {
   "cell_type": "code",
   "execution_count": 1,
   "id": "82f0b1cf",
   "metadata": {},
   "outputs": [],
   "source": [
    "import pandas as pd\n",
    "import nltk\n",
    "import string\n",
    "import numpy as np\n",
    "import matplotlib.pyplot as plt\n",
    "import seaborn as sns\n",
    "from wordcloud import WordCloud, STOPWORDS\n",
    "from nltk.corpus import stopwords\n",
    "from nltk.stem import WordNetLemmatizer\n",
    "from sklearn.feature_extraction.text import CountVectorizer\n",
    "from sklearn.model_selection import train_test_split, GridSearchCV\n",
    "from sklearn.naive_bayes import MultinomialNB\n",
    "from sklearn import metrics\n",
    "from sklearn.pipeline import Pipeline\n",
    "from sklearn.preprocessing import LabelEncoder\n",
    "from prefect import task, Flow\n",
    "from datetime import timedelta\n",
    "import mlflow\n"
   ]
  },
  {
   "cell_type": "code",
   "execution_count": 36,
   "id": "91b26817",
   "metadata": {},
   "outputs": [],
   "source": [
    "def load_data(file_path):\n",
    "    return pd.read_csv(file_path)"
   ]
  },
  {
   "cell_type": "code",
   "execution_count": 37,
   "id": "e4de76b2",
   "metadata": {},
   "outputs": [],
   "source": [
    "def clean_data(df):\n",
    "    # Drop rows with missing values\n",
    "    df_cleaned = df.dropna()\n",
    "    return df_cleaned"
   ]
  },
  {
   "cell_type": "code",
   "execution_count": 38,
   "id": "5a9bb796",
   "metadata": {},
   "outputs": [],
   "source": [
    "def split_data(X, y, test_size=0.25, random_state=0):\n",
    "    # Split the data into train and test sets\n",
    "    X_train, X_test, y_train, y_test = train_test_split(X, y, test_size=test_size, random_state=random_state)\n",
    "    return X_train, X_test, y_train, y_test"
   ]
  },
  {
   "cell_type": "code",
   "execution_count": 39,
   "id": "c71a65ea",
   "metadata": {},
   "outputs": [],
   "source": [
    "def vectorize_text(X_train, X_test):\n",
    "    # Vectorize the text data\n",
    "    vectorizer = CountVectorizer()\n",
    "    X_train_vectorized = vectorizer.fit_transform(X_train)\n",
    "    X_test_vectorized = vectorizer.transform(X_test)\n",
    "    return X_train_vectorized, X_test_vectorized"
   ]
  },
  {
   "cell_type": "code",
   "execution_count": 40,
   "id": "6b0d4204",
   "metadata": {},
   "outputs": [],
   "source": [
    "def train_pipeline(X_train, y_train):\n",
    "    pipe = Pipeline([\n",
    "        ('nb', MultinomialNB())\n",
    "    ])\n",
    "    \n",
    "    ALPHA = [1, 10]\n",
    "\n",
    "    parameter_grid = [{'nb__alpha' : ALPHA}]\n",
    "\n",
    "    clf = GridSearchCV(\n",
    "        estimator=pipe, \n",
    "        param_grid=parameter_grid, \n",
    "        scoring='f1',\n",
    "        cv=5,\n",
    "        return_train_score=True,\n",
    "        verbose=1\n",
    "    )\n",
    "\n",
    "    clf.fit(X_train, y_train)\n",
    "    \n",
    "    return clf.best_estimator_"
   ]
  },
  {
   "cell_type": "code",
   "execution_count": 35,
   "id": "73aa0fa1",
   "metadata": {},
   "outputs": [
    {
     "data": {
      "text/html": [
       "<pre style=\"white-space:pre;overflow-x:auto;line-height:normal;font-family:Menlo,'DejaVu Sans Mono',consolas,'Courier New',monospace\">00:06:54.290 | <span style=\"color: #008080; text-decoration-color: #008080\">INFO</span>    | prefect.engine - Created flow run<span style=\"color: #800080; text-decoration-color: #800080\"> 'slim-anaconda'</span> for flow<span style=\"color: #800080; text-decoration-color: #800080; font-weight: bold\"> 'NB traning flow'</span>\n",
       "</pre>\n"
      ],
      "text/plain": [
       "00:06:54.290 | \u001b[36mINFO\u001b[0m    | prefect.engine - Created flow run\u001b[35m 'slim-anaconda'\u001b[0m for flow\u001b[1;35m 'NB traning flow'\u001b[0m\n"
      ]
     },
     "metadata": {},
     "output_type": "display_data"
    },
    {
     "data": {
      "text/html": [
       "<pre style=\"white-space:pre;overflow-x:auto;line-height:normal;font-family:Menlo,'DejaVu Sans Mono',consolas,'Courier New',monospace\">00:06:54.726 | <span style=\"color: #008080; text-decoration-color: #008080\">INFO</span>    | Flow run<span style=\"color: #800080; text-decoration-color: #800080\"> 'slim-anaconda'</span> - Created task run 'load_data_task-0' for task 'load_data_task'\n",
       "</pre>\n"
      ],
      "text/plain": [
       "00:06:54.726 | \u001b[36mINFO\u001b[0m    | Flow run\u001b[35m 'slim-anaconda'\u001b[0m - Created task run 'load_data_task-0' for task 'load_data_task'\n"
      ]
     },
     "metadata": {},
     "output_type": "display_data"
    },
    {
     "data": {
      "text/html": [
       "<pre style=\"white-space:pre;overflow-x:auto;line-height:normal;font-family:Menlo,'DejaVu Sans Mono',consolas,'Courier New',monospace\">00:06:54.736 | <span style=\"color: #008080; text-decoration-color: #008080\">INFO</span>    | Flow run<span style=\"color: #800080; text-decoration-color: #800080\"> 'slim-anaconda'</span> - Executing 'load_data_task-0' immediately...\n",
       "</pre>\n"
      ],
      "text/plain": [
       "00:06:54.736 | \u001b[36mINFO\u001b[0m    | Flow run\u001b[35m 'slim-anaconda'\u001b[0m - Executing 'load_data_task-0' immediately...\n"
      ]
     },
     "metadata": {},
     "output_type": "display_data"
    },
    {
     "data": {
      "text/html": [
       "<pre style=\"white-space:pre;overflow-x:auto;line-height:normal;font-family:Menlo,'DejaVu Sans Mono',consolas,'Courier New',monospace\">00:06:55.147 | <span style=\"color: #008080; text-decoration-color: #008080\">INFO</span>    | Task run 'load_data_task-0' - Finished in state <span style=\"color: #008000; text-decoration-color: #008000\">Completed</span>()\n",
       "</pre>\n"
      ],
      "text/plain": [
       "00:06:55.147 | \u001b[36mINFO\u001b[0m    | Task run 'load_data_task-0' - Finished in state \u001b[32mCompleted\u001b[0m()\n"
      ]
     },
     "metadata": {},
     "output_type": "display_data"
    },
    {
     "data": {
      "text/html": [
       "<pre style=\"white-space:pre;overflow-x:auto;line-height:normal;font-family:Menlo,'DejaVu Sans Mono',consolas,'Courier New',monospace\">00:06:55.273 | <span style=\"color: #008080; text-decoration-color: #008080\">INFO</span>    | Flow run<span style=\"color: #800080; text-decoration-color: #800080\"> 'slim-anaconda'</span> - Created task run 'clean_data_task-0' for task 'clean_data_task'\n",
       "</pre>\n"
      ],
      "text/plain": [
       "00:06:55.273 | \u001b[36mINFO\u001b[0m    | Flow run\u001b[35m 'slim-anaconda'\u001b[0m - Created task run 'clean_data_task-0' for task 'clean_data_task'\n"
      ]
     },
     "metadata": {},
     "output_type": "display_data"
    },
    {
     "data": {
      "text/html": [
       "<pre style=\"white-space:pre;overflow-x:auto;line-height:normal;font-family:Menlo,'DejaVu Sans Mono',consolas,'Courier New',monospace\">00:06:55.277 | <span style=\"color: #008080; text-decoration-color: #008080\">INFO</span>    | Flow run<span style=\"color: #800080; text-decoration-color: #800080\"> 'slim-anaconda'</span> - Executing 'clean_data_task-0' immediately...\n",
       "</pre>\n"
      ],
      "text/plain": [
       "00:06:55.277 | \u001b[36mINFO\u001b[0m    | Flow run\u001b[35m 'slim-anaconda'\u001b[0m - Executing 'clean_data_task-0' immediately...\n"
      ]
     },
     "metadata": {},
     "output_type": "display_data"
    },
    {
     "data": {
      "text/html": [
       "<pre style=\"white-space:pre;overflow-x:auto;line-height:normal;font-family:Menlo,'DejaVu Sans Mono',consolas,'Courier New',monospace\">00:06:55.633 | <span style=\"color: #008080; text-decoration-color: #008080\">INFO</span>    | Task run 'clean_data_task-0' - Finished in state <span style=\"color: #008000; text-decoration-color: #008000\">Completed</span>()\n",
       "</pre>\n"
      ],
      "text/plain": [
       "00:06:55.633 | \u001b[36mINFO\u001b[0m    | Task run 'clean_data_task-0' - Finished in state \u001b[32mCompleted\u001b[0m()\n"
      ]
     },
     "metadata": {},
     "output_type": "display_data"
    },
    {
     "data": {
      "text/html": [
       "<pre style=\"white-space:pre;overflow-x:auto;line-height:normal;font-family:Menlo,'DejaVu Sans Mono',consolas,'Courier New',monospace\">00:06:55.871 | <span style=\"color: #008080; text-decoration-color: #008080\">INFO</span>    | Flow run<span style=\"color: #800080; text-decoration-color: #800080\"> 'slim-anaconda'</span> - Created task run 'split_data_task-0' for task 'split_data_task'\n",
       "</pre>\n"
      ],
      "text/plain": [
       "00:06:55.871 | \u001b[36mINFO\u001b[0m    | Flow run\u001b[35m 'slim-anaconda'\u001b[0m - Created task run 'split_data_task-0' for task 'split_data_task'\n"
      ]
     },
     "metadata": {},
     "output_type": "display_data"
    },
    {
     "data": {
      "text/html": [
       "<pre style=\"white-space:pre;overflow-x:auto;line-height:normal;font-family:Menlo,'DejaVu Sans Mono',consolas,'Courier New',monospace\">00:06:55.873 | <span style=\"color: #008080; text-decoration-color: #008080\">INFO</span>    | Flow run<span style=\"color: #800080; text-decoration-color: #800080\"> 'slim-anaconda'</span> - Executing 'split_data_task-0' immediately...\n",
       "</pre>\n"
      ],
      "text/plain": [
       "00:06:55.873 | \u001b[36mINFO\u001b[0m    | Flow run\u001b[35m 'slim-anaconda'\u001b[0m - Executing 'split_data_task-0' immediately...\n"
      ]
     },
     "metadata": {},
     "output_type": "display_data"
    },
    {
     "data": {
      "text/html": [
       "<pre style=\"white-space:pre;overflow-x:auto;line-height:normal;font-family:Menlo,'DejaVu Sans Mono',consolas,'Courier New',monospace\">00:06:56.359 | <span style=\"color: #008080; text-decoration-color: #008080\">INFO</span>    | Task run 'split_data_task-0' - Finished in state <span style=\"color: #008000; text-decoration-color: #008000\">Completed</span>()\n",
       "</pre>\n"
      ],
      "text/plain": [
       "00:06:56.359 | \u001b[36mINFO\u001b[0m    | Task run 'split_data_task-0' - Finished in state \u001b[32mCompleted\u001b[0m()\n"
      ]
     },
     "metadata": {},
     "output_type": "display_data"
    },
    {
     "data": {
      "text/html": [
       "<pre style=\"white-space:pre;overflow-x:auto;line-height:normal;font-family:Menlo,'DejaVu Sans Mono',consolas,'Courier New',monospace\">00:06:56.563 | <span style=\"color: #008080; text-decoration-color: #008080\">INFO</span>    | Flow run<span style=\"color: #800080; text-decoration-color: #800080\"> 'slim-anaconda'</span> - Created task run 'vectorize_text_task-0' for task 'vectorize_text_task'\n",
       "</pre>\n"
      ],
      "text/plain": [
       "00:06:56.563 | \u001b[36mINFO\u001b[0m    | Flow run\u001b[35m 'slim-anaconda'\u001b[0m - Created task run 'vectorize_text_task-0' for task 'vectorize_text_task'\n"
      ]
     },
     "metadata": {},
     "output_type": "display_data"
    },
    {
     "data": {
      "text/html": [
       "<pre style=\"white-space:pre;overflow-x:auto;line-height:normal;font-family:Menlo,'DejaVu Sans Mono',consolas,'Courier New',monospace\">00:06:56.572 | <span style=\"color: #008080; text-decoration-color: #008080\">INFO</span>    | Flow run<span style=\"color: #800080; text-decoration-color: #800080\"> 'slim-anaconda'</span> - Executing 'vectorize_text_task-0' immediately...\n",
       "</pre>\n"
      ],
      "text/plain": [
       "00:06:56.572 | \u001b[36mINFO\u001b[0m    | Flow run\u001b[35m 'slim-anaconda'\u001b[0m - Executing 'vectorize_text_task-0' immediately...\n"
      ]
     },
     "metadata": {},
     "output_type": "display_data"
    },
    {
     "data": {
      "text/html": [
       "<pre style=\"white-space:pre;overflow-x:auto;line-height:normal;font-family:Menlo,'DejaVu Sans Mono',consolas,'Courier New',monospace\">00:06:57.023 | <span style=\"color: #008080; text-decoration-color: #008080\">INFO</span>    | Task run 'vectorize_text_task-0' - Finished in state <span style=\"color: #008000; text-decoration-color: #008000\">Completed</span>()\n",
       "</pre>\n"
      ],
      "text/plain": [
       "00:06:57.023 | \u001b[36mINFO\u001b[0m    | Task run 'vectorize_text_task-0' - Finished in state \u001b[32mCompleted\u001b[0m()\n"
      ]
     },
     "metadata": {},
     "output_type": "display_data"
    },
    {
     "data": {
      "text/html": [
       "<pre style=\"white-space:pre;overflow-x:auto;line-height:normal;font-family:Menlo,'DejaVu Sans Mono',consolas,'Courier New',monospace\">00:06:57.123 | <span style=\"color: #008080; text-decoration-color: #008080\">INFO</span>    | Flow run<span style=\"color: #800080; text-decoration-color: #800080\"> 'slim-anaconda'</span> - Created task run 'train_pipeline_task-0' for task 'train_pipeline_task'\n",
       "</pre>\n"
      ],
      "text/plain": [
       "00:06:57.123 | \u001b[36mINFO\u001b[0m    | Flow run\u001b[35m 'slim-anaconda'\u001b[0m - Created task run 'train_pipeline_task-0' for task 'train_pipeline_task'\n"
      ]
     },
     "metadata": {},
     "output_type": "display_data"
    },
    {
     "data": {
      "text/html": [
       "<pre style=\"white-space:pre;overflow-x:auto;line-height:normal;font-family:Menlo,'DejaVu Sans Mono',consolas,'Courier New',monospace\">00:06:57.124 | <span style=\"color: #008080; text-decoration-color: #008080\">INFO</span>    | Flow run<span style=\"color: #800080; text-decoration-color: #800080\"> 'slim-anaconda'</span> - Executing 'train_pipeline_task-0' immediately...\n",
       "</pre>\n"
      ],
      "text/plain": [
       "00:06:57.124 | \u001b[36mINFO\u001b[0m    | Flow run\u001b[35m 'slim-anaconda'\u001b[0m - Executing 'train_pipeline_task-0' immediately...\n"
      ]
     },
     "metadata": {},
     "output_type": "display_data"
    },
    {
     "name": "stdout",
     "output_type": "stream",
     "text": [
      "Fitting 5 folds for each of 2 candidates, totalling 10 fits\n"
     ]
    },
    {
     "data": {
      "text/html": [
       "<pre style=\"white-space:pre;overflow-x:auto;line-height:normal;font-family:Menlo,'DejaVu Sans Mono',consolas,'Courier New',monospace\">00:06:57.534 | <span style=\"color: #008080; text-decoration-color: #008080\">INFO</span>    | Task run 'train_pipeline_task-0' - Finished in state <span style=\"color: #008000; text-decoration-color: #008000\">Completed</span>()\n",
       "</pre>\n"
      ],
      "text/plain": [
       "00:06:57.534 | \u001b[36mINFO\u001b[0m    | Task run 'train_pipeline_task-0' - Finished in state \u001b[32mCompleted\u001b[0m()\n"
      ]
     },
     "metadata": {},
     "output_type": "display_data"
    },
    {
     "data": {
      "text/html": [
       "<pre style=\"white-space:pre;overflow-x:auto;line-height:normal;font-family:Menlo,'DejaVu Sans Mono',consolas,'Courier New',monospace\">00:06:57.698 | <span style=\"color: #008080; text-decoration-color: #008080\">INFO</span>    | Flow run<span style=\"color: #800080; text-decoration-color: #800080\"> 'slim-anaconda'</span> - Finished in state <span style=\"color: #008000; text-decoration-color: #008000\">Completed</span>()\n",
       "</pre>\n"
      ],
      "text/plain": [
       "00:06:57.698 | \u001b[36mINFO\u001b[0m    | Flow run\u001b[35m 'slim-anaconda'\u001b[0m - Finished in state \u001b[32mCompleted\u001b[0m()\n"
      ]
     },
     "metadata": {},
     "output_type": "display_data"
    }
   ],
   "source": [
    "import pandas as pd\n",
    "from sklearn.pipeline import Pipeline\n",
    "from sklearn.feature_extraction.text import CountVectorizer\n",
    "from sklearn.naive_bayes import MultinomialNB\n",
    "from sklearn.model_selection import GridSearchCV\n",
    "from prefect import task, Flow\n",
    "import warnings\n",
    "\n",
    "# Ignore all warnings\n",
    "warnings.filterwarnings(\"ignore\")\n",
    "\n",
    "@task(name=\"load_data_task\")\n",
    "def load_data(file_path):\n",
    "    return pd.read_csv(file_path)\n",
    "\n",
    "@task(name=\"clean_data_task\")\n",
    "def clean_data(df):\n",
    "    # Drop rows with missing values\n",
    "    df_cleaned = df.dropna()\n",
    "    return df_cleaned\n",
    "\n",
    "@task(name=\"split_data_task\")\n",
    "def split_data(X, y, test_size=0.25, random_state=0):\n",
    "    # Split the data into train and test sets\n",
    "    X_train, X_test, y_train, y_test = train_test_split(X, y, test_size=test_size, random_state=random_state)\n",
    "    return X_train, X_test, y_train, y_test\n",
    "\n",
    "@task(name=\"vectorize_text_task\")\n",
    "def vectorize_text(X_train, X_test):\n",
    "    # Vectorize the text data\n",
    "    vectorizer = CountVectorizer()\n",
    "    X_train_vectorized = vectorizer.fit_transform(X_train)\n",
    "    X_test_vectorized = vectorizer.transform(X_test)\n",
    "    return X_train_vectorized, X_test_vectorized\n",
    "\n",
    "@task(name=\"train_pipeline_task\")\n",
    "def train_pipeline(X_train, y_train):\n",
    "    pipe = Pipeline([\n",
    "        ('nb', MultinomialNB())\n",
    "    ])\n",
    "    \n",
    "    ALPHA = [1, 10]\n",
    "\n",
    "    parameter_grid = [{'nb__alpha' : ALPHA}]\n",
    "\n",
    "    clf = GridSearchCV(\n",
    "        estimator=pipe, \n",
    "        param_grid=parameter_grid, \n",
    "        scoring='f1',\n",
    "        cv=5,\n",
    "        return_train_score=True,\n",
    "        verbose=1\n",
    "    )\n",
    "\n",
    "    clf.fit(X_train, y_train)\n",
    "    \n",
    "    return clf.best_estimator_\n",
    "\n",
    "@flow(name=\"NB traning flow\")\n",
    "def sentiment_analysis_workflow(data_path):\n",
    "    # Load data\n",
    "    df = load_data(data_path)\n",
    "\n",
    "    # Clean the data\n",
    "    df_cleaned = clean_data(df)\n",
    "\n",
    "    # Split the data into train and test sets\n",
    "    X_train, X_test, y_train, y_test = split_data(df_cleaned['Review text'], df_cleaned['Ratings'])\n",
    "\n",
    "    # Vectorize the text data\n",
    "    X_train_vectorized, X_test_vectorized = vectorize_text(X_train, X_test)\n",
    "\n",
    "    # Training the pipeline\n",
    "    best_estimator = train_pipeline(X_train_vectorized, y_train)\n",
    "\n",
    "    return best_estimator\n",
    "\n",
    "if __name__ == \"__main__\":\n",
    "    sentiment_analysis_workflow(data_path=\"data.csv\")\n"
   ]
  },
  {
   "cell_type": "code",
   "execution_count": null,
   "id": "21377155",
   "metadata": {},
   "outputs": [],
   "source": []
  }
 ],
 "metadata": {
  "kernelspec": {
   "display_name": "Python 3 (ipykernel)",
   "language": "python",
   "name": "python3"
  },
  "language_info": {
   "codemirror_mode": {
    "name": "ipython",
    "version": 3
   },
   "file_extension": ".py",
   "mimetype": "text/x-python",
   "name": "python",
   "nbconvert_exporter": "python",
   "pygments_lexer": "ipython3",
   "version": "3.9.13"
  }
 },
 "nbformat": 4,
 "nbformat_minor": 5
}
